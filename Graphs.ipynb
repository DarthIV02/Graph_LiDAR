{
 "cells": [
  {
   "cell_type": "code",
   "execution_count": 3,
   "id": "4025700d",
   "metadata": {},
   "outputs": [
    {
     "name": "stdout",
     "output_type": "stream",
     "text": [
      "/home/Graph_LiDAR/data\n"
     ]
    }
   ],
   "source": [
    "cd /home/Graph_LiDAR/data"
   ]
  },
  {
   "cell_type": "code",
   "execution_count": 4,
   "id": "3981098f",
   "metadata": {},
   "outputs": [
    {
     "name": "stdout",
     "output_type": "stream",
     "text": [
      "======\n",
      "Loading NuScenes tables for version v1.0-mini...\n",
      "Loading nuScenes-lidarseg...\n",
      "32 category,\n",
      "8 attribute,\n",
      "4 visibility,\n",
      "911 instance,\n",
      "12 sensor,\n",
      "120 calibrated_sensor,\n",
      "31206 ego_pose,\n",
      "8 log,\n",
      "10 scene,\n",
      "404 sample,\n",
      "31206 sample_data,\n",
      "18538 sample_annotation,\n",
      "4 map,\n",
      "404 lidarseg,\n",
      "Done loading in 0.389 seconds.\n",
      "======\n",
      "Reverse indexing ...\n",
      "Done reverse indexing in 0.1 seconds.\n",
      "======\n"
     ]
    }
   ],
   "source": [
    "import os.path as osp\n",
    "import os\n",
    "import numpy as np\n",
    "from nuscenes.nuscenes import NuScenes\n",
    "from nuscenes.utils.data_classes import LidarPointCloud\n",
    "from nuscenes.utils.data_io import load_bin_file, panoptic_to_lidarseg\n",
    "\n",
    "dataroot='./nuscenes/'\n",
    "# Load the nuScenes dataset (mini-split, in this case).\n",
    "nusc = NuScenes(version='v1.0-mini', dataroot='./nuscenes', verbose=True)"
   ]
  },
  {
   "cell_type": "code",
   "execution_count": 5,
   "id": "a1231f59",
   "metadata": {},
   "outputs": [
    {
     "name": "stdout",
     "output_type": "stream",
     "text": [
      "(34688, 4)\n"
     ]
    }
   ],
   "source": [
    "# Load some random sample token.\n",
    "sample = nusc.sample[0]\n",
    "\n",
    "sd_record = nusc.get('sample', sample['token'])\n",
    "ref_sd_token = sd_record['data']['LIDAR_TOP']\n",
    "ref_sd_record = nusc.get('sample_data', ref_sd_token)\n",
    "\n",
    "# Load pointcloud.\n",
    "pcl_path = osp.join(nusc.dataroot, ref_sd_record['filename'])\n",
    "pc = LidarPointCloud.from_file(pcl_path)\n",
    "points = pc.points.T\n",
    "points = points.astype(np.float32)\n",
    "print(points.shape)  # (34688, 4) <--- GET THE DATA :)"
   ]
  },
  {
   "cell_type": "code",
   "execution_count": 21,
   "id": "4ed348a5",
   "metadata": {},
   "outputs": [],
   "source": [
    "from modules.conversion import Graph as G\n",
    "\n",
    "graph_dist, graph_ind = G.point_to_graph_knn(points[:, :3], 10)"
   ]
  },
  {
   "cell_type": "code",
   "execution_count": 23,
   "id": "a0c5d03e",
   "metadata": {},
   "outputs": [
    {
     "data": {
      "text/plain": [
       "array([    0, 33920,    32, 33952, 33888, 33984,    64, 33856, 34016,\n",
       "          96])"
      ]
     },
     "execution_count": 23,
     "metadata": {},
     "output_type": "execute_result"
    }
   ],
   "source": [
    "graph_ind[0]"
   ]
  }
 ],
 "metadata": {
  "kernelspec": {
   "display_name": "graph_lidar",
   "language": "python",
   "name": "graph_lidar"
  },
  "language_info": {
   "codemirror_mode": {
    "name": "ipython",
    "version": 3
   },
   "file_extension": ".py",
   "mimetype": "text/x-python",
   "name": "python",
   "nbconvert_exporter": "python",
   "pygments_lexer": "ipython3",
   "version": "3.7.16"
  }
 },
 "nbformat": 4,
 "nbformat_minor": 5
}
